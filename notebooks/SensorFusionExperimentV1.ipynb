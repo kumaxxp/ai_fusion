{
 "cells": [
  {
   "cell_type": "code",
   "execution_count": null,
   "metadata": {},
   "outputs": [],
   "source": [
    "import torch\n",
    "import torch.nn as nn\n",
    "import torch.optim as optim\n",
    "from torch.utils.data import Dataset, DataLoader\n",
    "import matplotlib.pyplot as plt\n",
    "\n",
    "# カスタムモジュールのインポート\n",
    "from datasets.custom_dataset import CustomDataset\n",
    "from models.sensor_fusion_transformer import SensorFusionTransformerWithDecisionLayer\n"
   ]
  },
  {
   "cell_type": "code",
   "execution_count": null,
   "metadata": {},
   "outputs": [],
   "source": [
    "# ダミーデータでの動作確認\n",
    "train_dataset = CustomDataset(size=1000, seq_length=32, feature_size=512)\n",
    "test_dataset = CustomDataset(size=200, seq_length=32, feature_size=512)\n",
    "\n",
    "# DataLoaderのインスタンス化\n",
    "train_loader = DataLoader(train_dataset, batch_size=10, shuffle=True)\n",
    "test_loader = DataLoader(test_dataset, batch_size=10, shuffle=False)\n"
   ]
  },
  {
   "cell_type": "code",
   "execution_count": null,
   "metadata": {},
   "outputs": [],
   "source": [
    "model = SensorFusionTransformerWithDecisionLayer(num_layers=2, nhead=4, feature_size=512, output_size=2)\n",
    "criterion = nn.MSELoss()\n",
    "optimizer = optim.Adam(model.parameters(), lr=0.001)\n"
   ]
  },
  {
   "cell_type": "code",
   "execution_count": null,
   "metadata": {},
   "outputs": [],
   "source": [
    "# 損失の推移を記録\n",
    "train_losses = []\n",
    "test_losses = []\n",
    "\n",
    "# ここに訓練ループと評価ループのコードを記述\n",
    "\n",
    "# 損失の推移をプロット\n",
    "plt.plot(train_losses, label='Training loss')\n",
    "plt.plot(test_losses, label='Validation loss')\n",
    "plt.legend()\n",
    "plt.show()\n"
   ]
  }
 ],
 "metadata": {
  "language_info": {
   "name": "python"
  }
 },
 "nbformat": 4,
 "nbformat_minor": 2
}
